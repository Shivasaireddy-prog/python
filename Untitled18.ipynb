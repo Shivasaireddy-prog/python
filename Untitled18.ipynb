{
  "nbformat": 4,
  "nbformat_minor": 0,
  "metadata": {
    "colab": {
      "provenance": [],
      "authorship_tag": "ABX9TyNjLmfj2R2+Q2ZWMBuhZxIx",
      "include_colab_link": true
    },
    "kernelspec": {
      "name": "python3",
      "display_name": "Python 3"
    },
    "language_info": {
      "name": "python"
    }
  },
  "cells": [
    {
      "cell_type": "markdown",
      "metadata": {
        "id": "view-in-github",
        "colab_type": "text"
      },
      "source": [
        "<a href=\"https://colab.research.google.com/github/Shivasaireddy-prog/python/blob/main/Untitled18.ipynb\" target=\"_parent\"><img src=\"https://colab.research.google.com/assets/colab-badge.svg\" alt=\"Open In Colab\"/></a>"
      ]
    },
    {
      "cell_type": "code",
      "execution_count": 4,
      "metadata": {
        "colab": {
          "base_uri": "https://localhost:8080/"
        },
        "id": "sGHp0YxJ8yYH",
        "outputId": "bba83db4-3044-4eea-db4b-804ecc27976e"
      },
      "outputs": [
        {
          "output_type": "stream",
          "name": "stdout",
          "text": [
            "121\n",
            "palindrone\n"
          ]
        }
      ],
      "source": [
        "n=int(input())\n",
        "r=0\n",
        "f=n\n",
        "while(n!=0):\n",
        "    d=n%10\n",
        "    r=(r*10)+d\n",
        "    n=n//10\n",
        "if r==f:\n",
        "  print(\"palindrone\")\n",
        "else:\n",
        "  print(\"not\")\n"
      ]
    },
    {
      "cell_type": "code",
      "source": [
        "n=int(input())\n",
        "fac=1\n",
        "for i in range (1,n+1):\n",
        "  fac=fac*i\n",
        "  print(fac)\n"
      ],
      "metadata": {
        "colab": {
          "base_uri": "https://localhost:8080/"
        },
        "id": "6nLEJODJ-MPV",
        "outputId": "0cc3e3db-4e13-422b-9c82-a7776df0fe2b"
      },
      "execution_count": 5,
      "outputs": [
        {
          "output_type": "stream",
          "name": "stdout",
          "text": [
            "5\n",
            "1\n",
            "2\n",
            "6\n",
            "24\n",
            "120\n"
          ]
        }
      ]
    },
    {
      "cell_type": "code",
      "source": [
        "n=int(input())\n",
        "sum=0\n",
        "for i in range(1,n+1):\n",
        "  d=n%10\n",
        "  sum=sum+d\n",
        "  n=n//10\n",
        "print(sum)"
      ],
      "metadata": {
        "colab": {
          "base_uri": "https://localhost:8080/"
        },
        "id": "8Mmh7mifEUDn",
        "outputId": "977d5b13-b86b-44fd-d590-61a96bdb7f5e"
      },
      "execution_count": 6,
      "outputs": [
        {
          "output_type": "stream",
          "name": "stdout",
          "text": [
            "1234\n",
            "10\n"
          ]
        }
      ]
    },
    {
      "cell_type": "code",
      "source": [
        "#prime num\n",
        "n=int(input())\n",
        "temp=0\n",
        "for i in range(2,n):\n",
        "  if n%i==0:\n",
        "    temp=1\n",
        "    break\n",
        "if temp==1:\n",
        "  print(\"not prime\")\n",
        "else:\n",
        "  print(\"prime\")\n"
      ],
      "metadata": {
        "colab": {
          "base_uri": "https://localhost:8080/"
        },
        "id": "NO-b7luvFksa",
        "outputId": "edbee58d-f29d-48fc-ff8f-949d669ffc1c"
      },
      "execution_count": 8,
      "outputs": [
        {
          "output_type": "stream",
          "name": "stdout",
          "text": [
            "5\n",
            "prime\n"
          ]
        }
      ]
    },
    {
      "cell_type": "code",
      "source": [
        "#pattern\n",
        "n=int(input())\n",
        "for i in range (n,0,-1):\n",
        "  for j in range(1,i+1):\n",
        "    print (\"*\",end=' ')\n",
        "\n",
        "  print()"
      ],
      "metadata": {
        "colab": {
          "base_uri": "https://localhost:8080/"
        },
        "id": "zOwVThvIS1WL",
        "outputId": "9bc03637-ff42-48ad-991e-2003c9263280"
      },
      "execution_count": 29,
      "outputs": [
        {
          "output_type": "stream",
          "name": "stdout",
          "text": [
            "5\n",
            "* * * * * \n",
            "* * * * \n",
            "* * * \n",
            "* * \n",
            "* \n"
          ]
        }
      ]
    },
    {
      "cell_type": "code",
      "source": [
        "#pattern\n",
        "n=int(input())\n",
        "for i in range (1,n+1):\n",
        "  for j in range(1,i+1):\n",
        "    print (\"*\",end=' ')\n",
        "\n",
        "  print()\n"
      ],
      "metadata": {
        "colab": {
          "base_uri": "https://localhost:8080/"
        },
        "id": "alvZ-c9NMhRB",
        "outputId": "08f57bd7-b215-4450-b740-2276538101e8"
      },
      "execution_count": 31,
      "outputs": [
        {
          "output_type": "stream",
          "name": "stdout",
          "text": [
            "5\n",
            "* \n",
            "* * \n",
            "* * * \n",
            "* * * * \n",
            "* * * * * \n"
          ]
        }
      ]
    },
    {
      "cell_type": "code",
      "source": [
        "#pattern hallow\n",
        "n=int(input())\n",
        "for i in range (1,n+1):\n",
        "  for j in range(1,n+1):\n",
        "    if i==1 or i==n or j==1 or j==n:\n",
        "      print(\"*\",end=' ')\n",
        "    else:\n",
        "      print(\" \",end=' ')\n",
        "  print()\n",
        "\n",
        "\n",
        "\n",
        "\n",
        ""
      ],
      "metadata": {
        "colab": {
          "base_uri": "https://localhost:8080/"
        },
        "id": "NO84LCexTA-j",
        "outputId": "a0eef003-7fa9-4136-fcfa-04bf83f2622b"
      },
      "execution_count": 34,
      "outputs": [
        {
          "output_type": "stream",
          "name": "stdout",
          "text": [
            "5\n",
            "* * * * * \n",
            "*       * \n",
            "*       * \n",
            "*       * \n",
            "* * * * * \n"
          ]
        }
      ]
    },
    {
      "cell_type": "code",
      "source": [
        "from math import ceil\n",
        "n=int(input())\n",
        "for i in range (1,n+1):\n",
        "  for j in range(1,n+1):\n",
        "    if  i== ceil(n/2) or j== ceil(n/2):\n",
        "      print(\"*\",end=' ')\n",
        "    else:\n",
        "      print(\" \",end=' ')\n",
        "  print()\n"
      ],
      "metadata": {
        "colab": {
          "base_uri": "https://localhost:8080/"
        },
        "id": "YS9PK9Y6VO6g",
        "outputId": "71b4a7b8-ae6d-4114-a51d-61dc036af5d2"
      },
      "execution_count": 37,
      "outputs": [
        {
          "output_type": "stream",
          "name": "stdout",
          "text": [
            "5\n",
            "    *     \n",
            "    *     \n",
            "* * * * * \n",
            "    *     \n",
            "    *     \n"
          ]
        }
      ]
    },
    {
      "cell_type": "code",
      "source": [
        "from math import ceil\n",
        "n=int(input())\n",
        "for i in range (1,n+1):\n",
        "  for j in range(1,n+1):\n",
        "    if  i== n or j== ceil(n/2):\n",
        "      print(\"*\",end=' ')\n",
        "    else:\n",
        "      print(\" \",end=' ')\n",
        "  print()\n"
      ],
      "metadata": {
        "colab": {
          "base_uri": "https://localhost:8080/"
        },
        "id": "CVhpI-GVXOnT",
        "outputId": "9f69de9f-2c9a-48a2-c1a4-e34d62908fbd"
      },
      "execution_count": 38,
      "outputs": [
        {
          "output_type": "stream",
          "name": "stdout",
          "text": [
            "5\n",
            "    *     \n",
            "    *     \n",
            "    *     \n",
            "    *     \n",
            "* * * * * \n"
          ]
        }
      ]
    },
    {
      "cell_type": "code",
      "source": [
        "for i in range(1,6):\n",
        "  for s in range(5-i+1):\n",
        "    print(\" \",end=' ')\n",
        "  for j in range(i*2-1):\n",
        "      print(\"*\", end=' ')\n",
        "  print()"
      ],
      "metadata": {
        "colab": {
          "base_uri": "https://localhost:8080/"
        },
        "id": "ZhiNPB3WXyxS",
        "outputId": "848d8724-5f50-4bfc-8719-c30f8211724d"
      },
      "execution_count": 43,
      "outputs": [
        {
          "output_type": "stream",
          "name": "stdout",
          "text": [
            "          * \n",
            "        * * * \n",
            "      * * * * * \n",
            "    * * * * * * * \n",
            "  * * * * * * * * * \n"
          ]
        }
      ]
    }
  ]
}