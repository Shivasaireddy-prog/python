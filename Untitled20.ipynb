{
  "nbformat": 4,
  "nbformat_minor": 0,
  "metadata": {
    "colab": {
      "provenance": [],
      "authorship_tag": "ABX9TyNg9l4IUYDs9w6bIktBToCM",
      "include_colab_link": true
    },
    "kernelspec": {
      "name": "python3",
      "display_name": "Python 3"
    },
    "language_info": {
      "name": "python"
    }
  },
  "cells": [
    {
      "cell_type": "markdown",
      "metadata": {
        "id": "view-in-github",
        "colab_type": "text"
      },
      "source": [
        "<a href=\"https://colab.research.google.com/github/Shivasaireddy-prog/python/blob/main/Untitled20.ipynb\" target=\"_parent\"><img src=\"https://colab.research.google.com/assets/colab-badge.svg\" alt=\"Open In Colab\"/></a>"
      ]
    },
    {
      "cell_type": "code",
      "execution_count": null,
      "metadata": {
        "colab": {
          "base_uri": "https://localhost:8080/"
        },
        "id": "A9pOa2EeMA4D",
        "outputId": "f8600652-ac76-40d9-b22e-b5e413193256"
      },
      "outputs": [
        {
          "output_type": "stream",
          "name": "stdout",
          "text": [
            "malayalam\n",
            "palindrome\n"
          ]
        }
      ],
      "source": [
        "s1=input()\n",
        "s2=s1[::-1]\n",
        "if s1==s2:\n",
        "  print(\"palindrome\")\n",
        "else:\n",
        "  print(\"not palindrome\")"
      ]
    },
    {
      "cell_type": "code",
      "source": [
        "s1=input()\n",
        "s2=\"\"\n",
        "for i in s1:\n",
        "  s2=i+s2\n",
        "if(s1==s2):\n",
        "  print(\"palindrome\")\n",
        "else:\n",
        "  print(\"not\")\n",
        "print(s2)\n"
      ],
      "metadata": {
        "colab": {
          "base_uri": "https://localhost:8080/"
        },
        "id": "ojsiGip6Nhdv",
        "outputId": "81f533ba-62ce-4c7a-ff85-8bd67ee246e8"
      },
      "execution_count": null,
      "outputs": [
        {
          "output_type": "stream",
          "name": "stdout",
          "text": [
            "malayalam\n",
            "palindrome\n",
            "malayalam\n"
          ]
        }
      ]
    },
    {
      "cell_type": "code",
      "source": [
        "s1=input()\n",
        "s2=\"\"\n",
        "for i in range(len(s1)-1,-1,-1):\n",
        "  s2=s2+s1[i]\n",
        "print(s2)\n",
        "if(s1==s2):\n",
        "  print(\"The string is palindrom\")\n",
        "else:\n",
        "  print(\"The string is not palindrom\")"
      ],
      "metadata": {
        "colab": {
          "base_uri": "https://localhost:8080/"
        },
        "id": "hrAfpM2_PepL",
        "outputId": "acb2dc42-ede8-44ce-95b8-470eb506e48a"
      },
      "execution_count": null,
      "outputs": [
        {
          "output_type": "stream",
          "name": "stdout",
          "text": [
            "malayalam\n",
            "malayalam\n",
            "The string is palindrom\n"
          ]
        }
      ]
    },
    {
      "cell_type": "code",
      "source": [
        "s=\"shiva123#\"\n",
        "s2=\" \"\n",
        "for i in range(len(s)):\n",
        "  if((s[i].isalpha())):\n",
        "    s2=s2+s[i]\n",
        "print(s2)\n",
        "\n"
      ],
      "metadata": {
        "colab": {
          "base_uri": "https://localhost:8080/"
        },
        "id": "YlXz0oiMS01x",
        "outputId": "95c0c1e0-a8a6-4c91-b5c0-164662396058"
      },
      "execution_count": null,
      "outputs": [
        {
          "output_type": "stream",
          "name": "stdout",
          "text": [
            " shiva\n"
          ]
        }
      ]
    },
    {
      "cell_type": "code",
      "source": [
        "s1 = input()\n",
        "for character in s1:\n",
        "  if not character.isalpha():\n",
        "    s1=s1.replace(character,\"\")\n",
        "print(s1)"
      ],
      "metadata": {
        "id": "jr2s7-DwThvZ",
        "colab": {
          "base_uri": "https://localhost:8080/"
        },
        "outputId": "c060f66f-02ab-4a42-e382-7c1ce63a0688"
      },
      "execution_count": 12,
      "outputs": [
        {
          "output_type": "stream",
          "name": "stdout",
          "text": [
            "shiva123#\n",
            "shiva\n"
          ]
        }
      ]
    },
    {
      "cell_type": "code",
      "source": [
        "s1=input()\n",
        "s2=input()\n",
        "temp =0\n",
        "if len(s1)==len(s2):\n",
        "  for character in s1:\n",
        "    if character not in s2:\n",
        "      temp = 1\n",
        "      break\n",
        "\n",
        "  if temp ==0:\n",
        "    print(\"The string is anagram\")\n",
        "  else:\n",
        "    print(\"The string is not anagram\")\n",
        "else:\n",
        "  print(\"The string is not anagram\")"
      ],
      "metadata": {
        "colab": {
          "base_uri": "https://localhost:8080/"
        },
        "id": "ea5ZtTRBYvBc",
        "outputId": "b1100952-852b-4fde-83fc-5dad602e536f"
      },
      "execution_count": 18,
      "outputs": [
        {
          "output_type": "stream",
          "name": "stdout",
          "text": [
            "race\n",
            "care\n",
            "The string is anagram\n"
          ]
        }
      ]
    },
    {
      "cell_type": "code",
      "source": [
        "s=list(input())\n",
        "for i in range(len(s)):\n",
        "  if i==0:\n",
        "    s[0]=s[i].upper()\n",
        "  elif s[i-1]==' ':\n",
        "    s[i]=s[i].upper()\n",
        "print(\"\".join(s))"
      ],
      "metadata": {
        "colab": {
          "base_uri": "https://localhost:8080/"
        },
        "id": "cXiZ9OOShnz1",
        "outputId": "c9988396-13c7-4125-c3bc-4862314e2f05"
      },
      "execution_count": 34,
      "outputs": [
        {
          "output_type": "stream",
          "name": "stdout",
          "text": [
            "sfd awresrdtfgh aewsrdtfy\n",
            "Sfd Awresrdtfgh Aewsrdtfy\n"
          ]
        }
      ]
    },
    {
      "cell_type": "code",
      "source": [
        "s1=input()\n",
        "s2=input()\n",
        "if s2 in s1:\n",
        "  print(f\"{s2} is a subtring of {s1}\")\n",
        "else:\n",
        "  print(f\"{s2} is not a subtring of {s1}\")"
      ],
      "metadata": {
        "colab": {
          "base_uri": "https://localhost:8080/"
        },
        "id": "veaB2IT1j2me",
        "outputId": "f7cc1515-223a-4687-bbbc-2a779c0c9352"
      },
      "execution_count": 38,
      "outputs": [
        {
          "output_type": "stream",
          "name": "stdout",
          "text": [
            "abcd\n",
            "cd\n",
            "cd is a subtring of abcd\n"
          ]
        }
      ]
    },
    {
      "cell_type": "code",
      "source": [],
      "metadata": {
        "colab": {
          "base_uri": "https://localhost:8080/"
        },
        "id": "EJVXRDP5nDGZ",
        "outputId": "3c10e1f0-34b1-4885-9b7d-0a363c4ed477"
      },
      "execution_count": 39,
      "outputs": [
        {
          "output_type": "stream",
          "name": "stdout",
          "text": [
            "ephant\n",
            "ant\n",
            "3\n"
          ]
        }
      ]
    },
    {
      "cell_type": "code",
      "source": [],
      "metadata": {
        "id": "yqHz2-fYnDQ7"
      },
      "execution_count": null,
      "outputs": []
    }
  ]
}